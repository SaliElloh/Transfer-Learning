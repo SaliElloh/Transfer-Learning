{
 "cells": [
  {
   "cell_type": "code",
   "execution_count": null,
   "metadata": {},
   "outputs": [],
   "source": [
    "def preprocess_images(paths, shape_r, shape_c):\n",
    "    ims = np.zeros((len(paths), shape_r, shape_c, 3))\n",
    "\n",
    "    for i, path in enumerate(paths):\n",
    "        original_image = cv2.imread(path)\n",
    "        padded_image = padding(original_image, shape_r, shape_c, 3)\n",
    "        ims[i] = padded_image\n",
    "\n",
    "    ims[:, :, :, 0] -= 103.939\n",
    "    ims[:, :, :, 1] -= 116.779\n",
    "    ims[:, :, :, 2] -= 123.68\n",
    "    ims = ims.transpose((0, 3, 1, 2))\n",
    "\n",
    "    return ims\n"
   ]
  },
  {
   "cell_type": "code",
   "execution_count": null,
   "metadata": {},
   "outputs": [],
   "source": [
    "\n",
    "\n",
    "def preprocess_maps(paths, shape_r, shape_c):\n",
    "    ims = np.zeros((len(paths), 1, shape_r, shape_c))\n",
    "\n",
    "    for i, path in enumerate(paths):\n",
    "        original_map = cv2.imread(path, 0)\n",
    "        padded_map = padding(original_map, shape_r, shape_c, 1)\n",
    "        ims[i, 0] = padded_map.astype(np.float32)\n",
    "        ims[i, 0] /= 255.0\n",
    "\n",
    "    return ims"
   ]
  }
 ],
 "metadata": {
  "language_info": {
   "name": "python"
  }
 },
 "nbformat": 4,
 "nbformat_minor": 2
}
