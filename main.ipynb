{
 "cells": [
  {
   "cell_type": "code",
   "execution_count": 44,
   "metadata": {},
   "outputs": [],
   "source": [
    "import tarfile\n",
    "import os"
   ]
  },
  {
   "cell_type": "code",
   "execution_count": null,
   "metadata": {},
   "outputs": [],
   "source": []
  },
  {
   "cell_type": "markdown",
   "metadata": {},
   "source": [
    "Reading the Data"
   ]
  },
  {
   "cell_type": "code",
   "execution_count": 45,
   "metadata": {},
   "outputs": [],
   "source": [
    "#file locations:\n",
    "hdbd_data = \"C:/Users/sally/Desktop/data/Heat_maps_90_160_laplace.tar.gz\"\n",
    "new_location = \"./hdbd_data_extracted\""
   ]
  },
  {
   "cell_type": "markdown",
   "metadata": {},
   "source": []
  },
  {
   "cell_type": "code",
   "execution_count": 46,
   "metadata": {},
   "outputs": [],
   "source": [
    "#open data\n",
    "\n",
    "for subdir, dirs, files in os.walk(hdbd_data):\n",
    "    for file in files:\n",
    "        filepath =  subdir + os.sep + file\n",
    "\n",
    "        print(file.dirname())\n",
    "\n",
    "\n",
    "# with open(hdbd_data, 'r+') as file:\n",
    "#     for line in file:\n",
    "#         with tarfile.open(line) as tar:\n",
    "#             file_location = os.path.dirname(line)\n",
    "#             file_name = os.path.basename(file_location)\n",
    "#             tar.extractall(path=new_location    )\n",
    "\n"
   ]
  }
 ],
 "metadata": {
  "kernelspec": {
   "display_name": "Python 3",
   "language": "python",
   "name": "python3"
  },
  "language_info": {
   "codemirror_mode": {
    "name": "ipython",
    "version": 3
   },
   "file_extension": ".py",
   "mimetype": "text/x-python",
   "name": "python",
   "nbconvert_exporter": "python",
   "pygments_lexer": "ipython3",
   "version": "3.12.1"
  }
 },
 "nbformat": 4,
 "nbformat_minor": 2
}
